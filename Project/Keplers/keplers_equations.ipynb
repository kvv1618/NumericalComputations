{
 "cells": [
  {
   "cell_type": "markdown",
   "metadata": {},
   "source": [
    "Derive Orbital Elements\n",
    "<br>\n",
    "<br>\n",
    "    - Semi-major axis: The distance from the center of an ellipse to its furthest edge, along the major axis\n",
    "<br>    \n",
    "    - Eccentricity: Measure of how elliptical the orbit is around the sun, and is represented by a value between 0 and 1: \n",
    "<br>\n",
    "    Eccentricity of 0: A perfect circle \n",
    "<br>\n",
    "    Eccentricity of 1: A parabola\n",
    "<br>\n",
    "<br>\n",
    "    - Inclination: The angle between the plane of the orbit and the ecliptic plane(Plane of Earth's orbit around the sun)\n",
    "<br>\n",
    "<br>\n",
    "    - Longitude of the ascending node: The angle between the reference direction and the point at which the orbit crosses the ecliptic plane from the south to the north\n",
    "<br>\n",
    "<br>\n",
    "    - Argument of Perihelion: The angle between the ascending node and the point at which the planet is closest to the sun (An argument of periapsis of 0° means that the orbiting body's Periapsis is at the Ascending Node. An argument of periapsis of 90° means that the orbiting body will reach periapsis at its northmost distance from the plane of reference.)"
   ]
  },
  {
   "cell_type": "code",
   "execution_count": 32,
   "metadata": {},
   "outputs": [
    {
     "name": "stderr",
     "output_type": "stream",
     "text": [
      "/tmp/ipykernel_68061/969097261.py:16: FutureWarning: The behavior of DataFrame concatenation with empty or all-NA entries is deprecated. In a future version, this will no longer exclude empty or all-NA columns when determining the result dtypes. To retain the old behavior, exclude the relevant entries before the concat operation.\n",
      "  df = pd.concat([df, new_row], ignore_index=True)\n"
     ]
    },
    {
     "data": {
      "text/html": [
       "<div>\n",
       "<style scoped>\n",
       "    .dataframe tbody tr th:only-of-type {\n",
       "        vertical-align: middle;\n",
       "    }\n",
       "\n",
       "    .dataframe tbody tr th {\n",
       "        vertical-align: top;\n",
       "    }\n",
       "\n",
       "    .dataframe thead th {\n",
       "        text-align: right;\n",
       "    }\n",
       "</style>\n",
       "<table border=\"1\" class=\"dataframe\">\n",
       "  <thead>\n",
       "    <tr style=\"text-align: right;\">\n",
       "      <th></th>\n",
       "      <th>Date</th>\n",
       "      <th>Position_x</th>\n",
       "      <th>Position_y</th>\n",
       "      <th>Position_z</th>\n",
       "      <th>Velocity_x</th>\n",
       "      <th>Velocity_y</th>\n",
       "      <th>Velocity_z</th>\n",
       "    </tr>\n",
       "  </thead>\n",
       "  <tbody>\n",
       "    <tr>\n",
       "      <th>0</th>\n",
       "      <td>1992-09-30</td>\n",
       "      <td>-2.353658e+07</td>\n",
       "      <td>-1.056952e+08</td>\n",
       "      <td>-42094.061217</td>\n",
       "      <td>32.644443</td>\n",
       "      <td>-9.032771</td>\n",
       "      <td>-1.945275</td>\n",
       "    </tr>\n",
       "    <tr>\n",
       "      <th>1</th>\n",
       "      <td>1992-10-01</td>\n",
       "      <td>-2.069097e+07</td>\n",
       "      <td>-1.064476e+08</td>\n",
       "      <td>-212555.484600</td>\n",
       "      <td>33.233729</td>\n",
       "      <td>-8.366555</td>\n",
       "      <td>-2.001262</td>\n",
       "    </tr>\n",
       "    <tr>\n",
       "      <th>2</th>\n",
       "      <td>1992-10-02</td>\n",
       "      <td>-1.779289e+07</td>\n",
       "      <td>-1.071377e+08</td>\n",
       "      <td>-387975.673075</td>\n",
       "      <td>33.854380</td>\n",
       "      <td>-7.588821</td>\n",
       "      <td>-2.059448</td>\n",
       "    </tr>\n",
       "    <tr>\n",
       "      <th>3</th>\n",
       "      <td>1992-10-03</td>\n",
       "      <td>-1.484083e+07</td>\n",
       "      <td>-1.077554e+08</td>\n",
       "      <td>-568383.287081</td>\n",
       "      <td>34.478586</td>\n",
       "      <td>-6.689384</td>\n",
       "      <td>-2.116079</td>\n",
       "    </tr>\n",
       "    <tr>\n",
       "      <th>4</th>\n",
       "      <td>1992-10-04</td>\n",
       "      <td>-1.183574e+07</td>\n",
       "      <td>-1.082900e+08</td>\n",
       "      <td>-753480.878332</td>\n",
       "      <td>35.076722</td>\n",
       "      <td>-5.665242</td>\n",
       "      <td>-2.167398</td>\n",
       "    </tr>\n",
       "  </tbody>\n",
       "</table>\n",
       "</div>"
      ],
      "text/plain": [
       "         Date    Position_x    Position_y     Position_z  Velocity_x  \\\n",
       "0  1992-09-30 -2.353658e+07 -1.056952e+08  -42094.061217   32.644443   \n",
       "1  1992-10-01 -2.069097e+07 -1.064476e+08 -212555.484600   33.233729   \n",
       "2  1992-10-02 -1.779289e+07 -1.071377e+08 -387975.673075   33.854380   \n",
       "3  1992-10-03 -1.484083e+07 -1.077554e+08 -568383.287081   34.478586   \n",
       "4  1992-10-04 -1.183574e+07 -1.082900e+08 -753480.878332   35.076722   \n",
       "\n",
       "   Velocity_y  Velocity_z  \n",
       "0   -9.032771   -1.945275  \n",
       "1   -8.366555   -2.001262  \n",
       "2   -7.588821   -2.059448  \n",
       "3   -6.689384   -2.116079  \n",
       "4   -5.665242   -2.167398  "
      ]
     },
     "execution_count": 32,
     "metadata": {},
     "output_type": "execute_result"
    }
   ],
   "source": [
    "import pandas as pd\n",
    "import numpy as np\n",
    "\n",
    "columns = ['Date', 'Position_x', 'Position_y', 'Position_z', 'Velocity_x', 'Velocity_y', 'Velocity_z']\n",
    "df = pd.DataFrame(columns=columns)\n",
    "\n",
    "with open('RawData/horizons_results_30_years.csv') as f:\n",
    "    f.readline()\n",
    "    for line in f:\n",
    "        line = line.strip().split(',')\n",
    "\n",
    "        date = line[0]\n",
    "        position = np.array(list(map(np.float128, line[1:4])))\n",
    "        velocity = np.array(list(map(np.float128, line[4:7])))\n",
    "        new_row = pd.DataFrame([[date, *position, *velocity]], columns=columns)\n",
    "        df = pd.concat([df, new_row], ignore_index=True)\n",
    "\n",
    "GM = np.float128(1.32712440018e11) # km^3/s^2\n",
    "\n",
    "df.head()"
   ]
  },
  {
   "cell_type": "code",
   "execution_count": 33,
   "metadata": {},
   "outputs": [],
   "source": [
    "position = df[['Position_x', 'Position_y', 'Position_z']].values.astype(np.float128)\n",
    "velocity = df[['Velocity_x', 'Velocity_y', 'Velocity_z']].values.astype(np.float128)\n",
    "\n",
    "angular_momentum = np.cross(position, velocity)\n",
    "vel_cross_h = np.cross(velocity, angular_momentum)\n",
    "\n",
    "angular_momentum_magnitude = np.sqrt(angular_momentum[:,0]**2 + angular_momentum[:,1]**2 + angular_momentum[:,2]**2)\n",
    "pos_magnitude = np.sqrt(np.sum(position**2, axis=1, dtype=np.float128))"
   ]
  },
  {
   "cell_type": "code",
   "execution_count": 34,
   "metadata": {},
   "outputs": [
    {
     "name": "stdout",
     "output_type": "stream",
     "text": [
      "Mean Semi-major axis: 109444168.34983853 kms\n",
      "True value of semi-major axis of Venus: 108200000 km\n",
      "Relative error:  1.1498783270226633111 %\n"
     ]
    }
   ],
   "source": [
    "#Caclulate semi-major axis\n",
    "pos_x = df['Position_x'].values\n",
    "pos_y = df['Position_y'].values\n",
    "pos_z = df['Position_z'].values\n",
    "vel_x = df['Velocity_x'].values\n",
    "vel_y = df['Velocity_y'].values\n",
    "vel_z = df['Velocity_z'].values\n",
    "\n",
    "r_magnitude = np.sqrt(pos_x**2 + pos_y**2 + pos_z**2)\n",
    "v_magnitude = np.sqrt(vel_x**2 + vel_y**2 + vel_z**2)\n",
    "\n",
    "semi_major_axis_arr = 1/((2/r_magnitude) - (v_magnitude**2/GM))\n",
    "\n",
    "semi_major_axis = np.mean(semi_major_axis_arr)\n",
    "\n",
    "print(f'Mean Semi-major axis: {semi_major_axis} kms')\n",
    "print(\"True value of semi-major axis of Venus: 108200000 km\")\n",
    "print(\"Relative error: \", ((semi_major_axis - 108200000)/108200000)*100, \"%\")\n",
    "\n",
    "with open('Results/constants.txt', 'w') as f:\n",
    "    f.write(f'Mean Semi-major axis: {semi_major_axis} kms\\n')"
   ]
  },
  {
   "cell_type": "code",
   "execution_count": null,
   "metadata": {},
   "outputs": [
    {
     "name": "stdout",
     "output_type": "stream",
     "text": [
      "Periheleion:  106777695.57047527538\n",
      "Apoheleion:  109637482.51564788659\n",
      "True value of periheleion of Venus: 107471110 kms\n",
      "True value of apoheleion of Venus: 108937169 kms\n",
      "Eccentricity:  0.013214354790007146316\n",
      "True value of eccentricity of Venus: 0.0067\n",
      "Relative error:  97.22917597025590851 %\n"
     ]
    }
   ],
   "source": [
    "periheleion = np.min(r_magnitude) #Closest to the sun\n",
    "apoheleion = np.max(r_magnitude)\n",
    "\n",
    "#convert to AU\n",
    "periheleion = periheleion\n",
    "apoheleion = apoheleion\n",
    "\n",
    "print('Periheleion: ', periheleion)\n",
    "print('Apoheleion: ', apoheleion)\n",
    "print(\"True value of periheleion of Venus: 107471110 kms\")\n",
    "print(\"True value of apoheleion of Venus: 108937169 kms\")\n",
    "eccentricity = (apoheleion - periheleion)/(apoheleion + periheleion)\n",
    "print('Eccentricity: ', eccentricity)\n",
    "print(\"True value of eccentricity of Venus: 0.0067\")\n",
    "print(\"Relative error: \", ((eccentricity - 0.0067)/0.0067)*100, \"%\")\n",
    "\n",
    "with open('Results/constants.txt', 'a') as f:\n",
    "    f.write('Periheleion: ' + str(periheleion) + ' kms\\n')\n",
    "    f.write('Apoheleion: ' + str(apoheleion) + ' kms\\n')\n",
    "    f.write('Eccentricity: ' + str(eccentricity) + '\\n')"
   ]
  },
  {
   "cell_type": "code",
   "execution_count": 36,
   "metadata": {},
   "outputs": [
    {
     "name": "stdout",
     "output_type": "stream",
     "text": [
      "Mean Inclination: 3.3940019733655222 degrees\n",
      "True value of inclination of Venus: 3.39 degrees\n",
      "Relative error:  0.11805231166732356996 %\n"
     ]
    }
   ],
   "source": [
    "#calculate average inclination\n",
    "inclination = np.arccos(angular_momentum[:,2]/angular_momentum_magnitude)\n",
    "inclination = np.degrees(inclination)\n",
    "inclination = np.mean(inclination)\n",
    "print(f'Mean Inclination: {inclination} degrees')\n",
    "print(\"True value of inclination of Venus: 3.39 degrees\")\n",
    "print(\"Relative error: \", ((inclination - 3.39)/3.39)*100, \"%\")\n",
    "\n",
    "with open('Results/constants.txt', 'a') as f:\n",
    "    f.write(f'Mean Inclination: {inclination} degrees\\n')"
   ]
  },
  {
   "cell_type": "code",
   "execution_count": 37,
   "metadata": {},
   "outputs": [
    {
     "name": "stdout",
     "output_type": "stream",
     "text": [
      "Mean Longitude of ascending node: 76.65871657844771 degrees\n",
      "True value of Longitude of ascending node of Venus: 76.785 degrees\n",
      "Relative error:  0.16446366028819717857 %\n"
     ]
    }
   ],
   "source": [
    "#Longitude of ascending node\n",
    "omega = np.arctan2(angular_momentum[:,0], -1*angular_momentum[:,1])\n",
    "omega = np.degrees(omega)\n",
    "omega = np.mean(omega)\n",
    "print(f'Mean Longitude of ascending node: {omega} degrees')\n",
    "print(\"True value of Longitude of ascending node of Venus: 76.785 degrees\")\n",
    "print(\"Relative error: \", abs(((omega - 76.785)/76.785)*100), \"%\")\n",
    "\n",
    "with open('Results/constants.txt', 'a') as f:\n",
    "    f.write(f'Mean Longitude of ascending node: {omega} degrees\\n')"
   ]
  },
  {
   "cell_type": "code",
   "execution_count": 38,
   "metadata": {},
   "outputs": [
    {
     "name": "stdout",
     "output_type": "stream",
     "text": [
      "Mean Argument of periapsis: 88.29658383476765 degrees\n",
      "True value of Argument of periapsis of Venus: 54.78 degrees\n",
      "Relative error:  61.18397925295297631 %\n"
     ]
    }
   ],
   "source": [
    "#Calculate Argument of periapsis\n",
    "node_vector = np.cross([0,0,1], angular_momentum) #direction of the ascending node; Lies in the reference plane; Points from the central body toward the ascending node.\n",
    "node_vector_magnitude = np.sqrt(node_vector[:,0]**2 + node_vector[:,1]**2 + node_vector[:,2]**2)\n",
    "node_vector_unit = node_vector/node_vector_magnitude[:,np.newaxis]\n",
    "\n",
    "e_vector = vel_cross_h/GM - position/pos_magnitude[:,np.newaxis] #eccentricity vector\n",
    "e_vector_magnitude = np.sqrt(e_vector[:,0]**2 + e_vector[:,1]**2 + e_vector[:,2]**2)\n",
    "e_vector_unit = e_vector/e_vector_magnitude[:,np.newaxis]\n",
    "\n",
    "w = np.arccos(np.dot(node_vector_unit, e_vector_unit.T))\n",
    "w = np.degrees(w)\n",
    "w = np.mean(w)\n",
    "print(f'Mean Argument of periapsis: {w} degrees')\n",
    "print(\"True value of Argument of periapsis of Venus: 54.78 degrees\")\n",
    "print(\"Relative error: \", ((w - 54.78)/54.78)*100, \"%\")\n",
    "\n",
    "with open('Results/constants.txt', 'a') as f:\n",
    "    f.write(f'Mean Argument of periapsis: {w} degrees\\n')"
   ]
  },
  {
   "cell_type": "code",
   "execution_count": null,
   "metadata": {},
   "outputs": [],
   "source": []
  }
 ],
 "metadata": {
  "kernelspec": {
   "display_name": "nc",
   "language": "python",
   "name": "python3"
  },
  "language_info": {
   "codemirror_mode": {
    "name": "ipython",
    "version": 3
   },
   "file_extension": ".py",
   "mimetype": "text/x-python",
   "name": "python",
   "nbconvert_exporter": "python",
   "pygments_lexer": "ipython3",
   "version": "3.10.15"
  }
 },
 "nbformat": 4,
 "nbformat_minor": 2
}
