{
 "cells": [
  {
   "cell_type": "code",
   "execution_count": 1,
   "metadata": {},
   "outputs": [],
   "source": [
    "import math\n",
    "import numpy as np\n",
    "import pandas as pd\n",
    "import os"
   ]
  },
  {
   "cell_type": "code",
   "execution_count": 2,
   "metadata": {},
   "outputs": [],
   "source": [
    "os.chdir(os.path.dirname(os.getcwd()))"
   ]
  },
  {
   "cell_type": "code",
   "execution_count": 3,
   "metadata": {},
   "outputs": [],
   "source": [
    "with open(\"Results/constants.txt\") as f:\n",
    "    str = f.readline()\n",
    "    while str:\n",
    "        if str.startswith(\"Mean Semi\") == True:\n",
    "            semi_major_axis = np.float128(str.split(':')[1].split(' ')[1].strip())\n",
    "        elif str.startswith(\"Eccentricity\") == True:\n",
    "            e = np.float128(str.split(':')[1].split(' ')[1].strip())\n",
    "        elif str.startswith(\"Mean Inclination\") == True:\n",
    "            inc = np.float128(str.split(':')[1].split(' ')[1].strip())\n",
    "        elif str.startswith(\"Mean Longitude\") == True:\n",
    "            omega = np.float128(str.split(':')[1].split(' ')[1].strip())\n",
    "        elif str.startswith(\"Mean Argument\") == True:\n",
    "            w = np.float128(str.split(':')[1].split(' ')[1].strip())\n",
    "\n",
    "        str = f.readline()\n",
    "\n"
   ]
  },
  {
   "cell_type": "code",
   "execution_count": 4,
   "metadata": {},
   "outputs": [],
   "source": [
    "T = 225 #Time period of Venus being 224.7 Earth days\n",
    "pred_t = np.arange(0,T,1)\n",
    "mean_motion = 2*np.pi/T\n",
    "\n",
    "mean_anomaly = mean_motion*pred_t"
   ]
  },
  {
   "cell_type": "code",
   "execution_count": 5,
   "metadata": {},
   "outputs": [],
   "source": [
    "E = mean_anomaly\n",
    "E_nxt = E - (E - e*np.sin(E) - mean_anomaly)/(1 - e*np.cos(E))\n",
    "i = 0\n",
    "while not(np.all(np.abs(E - E_nxt) < 0.5*(10**-7))):\n",
    "    i+=1\n",
    "    E = E_nxt\n",
    "    E_nxt = E - (E - e*np.sin(E) - mean_anomaly)/(1 - e*np.cos(E))\n",
    "E = E_nxt"
   ]
  },
  {
   "cell_type": "code",
   "execution_count": 6,
   "metadata": {},
   "outputs": [],
   "source": [
    "true_anomaly = 2*np.arctan(np.sqrt((1+e)/(1-e))*np.tan(E/2))\n",
    "# #adjust quadrant\n",
    "true_anomaly = np.where(true_anomaly<0, true_anomaly+2*math.pi, true_anomaly)"
   ]
  },
  {
   "cell_type": "code",
   "execution_count": 7,
   "metadata": {},
   "outputs": [],
   "source": [
    "radius = semi_major_axis*(1 - e**2)/(1 + e*np.cos(true_anomaly))"
   ]
  },
  {
   "cell_type": "code",
   "execution_count": 8,
   "metadata": {},
   "outputs": [],
   "source": [
    "#perifocal coordinates\n",
    "x = radius*np.cos(true_anomaly)\n",
    "y = radius*np.sin(true_anomaly)\n",
    "z = np.zeros_like(x)"
   ]
  },
  {
   "cell_type": "code",
   "execution_count": 9,
   "metadata": {},
   "outputs": [],
   "source": [
    "#rotation matrix\n",
    "R = np.array([\n",
    "        [np.cos(w)*np.cos(omega) - np.sin(w)*np.cos(inc)*np.sin(omega), -np.cos(w)*np.sin(omega) - np.sin(w)*np.cos(inc)*np.cos(omega), np.sin(w)*np.sin(inc)],\n",
    "        [np.sin(w)*np.cos(omega) + np.cos(w)*np.cos(inc)*np.sin(omega), -np.sin(w)*np.sin(omega) + np.cos(w)*np.cos(inc)*np.cos(omega), -np.cos(w)*np.sin(inc)],\n",
    "        [np.sin(inc)*np.sin(omega), np.sin(inc)*np.cos(omega), np.cos(inc)]\n",
    "    ])\n",
    "\n",
    "#rotate\n",
    "r = np.array([x,y,z])\n",
    "r = np.dot(R,r)"
   ]
  },
  {
   "cell_type": "code",
   "execution_count": 10,
   "metadata": {},
   "outputs": [],
   "source": [
    "#write coordinates to a file\n",
    "with open(\"Results/venus_2023.txt\", \"w\") as f:\n",
    "    for i in range(len(r[0])):\n",
    "        f.write(\"{:.20f}\".format(r[0][i]) + \" \" + \"{:.20f}\".format(r[1][i]) + \" \" + \"{:.20f}\".format(r[2][i]) + \"\\n\")"
   ]
  }
 ],
 "metadata": {
  "kernelspec": {
   "display_name": "nc",
   "language": "python",
   "name": "python3"
  },
  "language_info": {
   "codemirror_mode": {
    "name": "ipython",
    "version": 3
   },
   "file_extension": ".py",
   "mimetype": "text/x-python",
   "name": "python",
   "nbconvert_exporter": "python",
   "pygments_lexer": "ipython3",
   "version": "3.10.15"
  }
 },
 "nbformat": 4,
 "nbformat_minor": 2
}
