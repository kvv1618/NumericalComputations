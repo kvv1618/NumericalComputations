{
 "cells": [
  {
   "cell_type": "markdown",
   "metadata": {},
   "source": [
    "Derive Orbital Elements\n",
    "<br>\n",
    "<br>\n",
    "    - Semi-major axis: The distance from the center of an ellipse to its furthest edge, along the major axis\n",
    "<br>    \n",
    "    - Eccentricity: Measure of how elliptical the orbit is around the sun, and is represented by a value between 0 and 1: \n",
    "<br>\n",
    "    Eccentricity of 0: A perfect circle \n",
    "<br>\n",
    "    Eccentricity of 1: A parabola\n",
    "<br>\n",
    "<br>\n",
    "    - Inclination: The angle between the plane of the orbit and the ecliptic plane(Plane of Earth's orbit around the sun)\n",
    "<br>\n",
    "<br>\n",
    "    - Longitude of the ascending node: The angle between the reference direction and the point at which the orbit crosses the ecliptic plane from the south to the north\n",
    "<br>\n",
    "<br>\n",
    "    - Argument of Perihelion: The angle between the ascending node and the point at which the planet is closest to the sun (An argument of periapsis of 0° means that the orbiting body's Periapsis is at the Ascending Node. An argument of periapsis of 90° means that the orbiting body will reach periapsis at its northmost distance from the plane of reference.)"
   ]
  },
  {
   "cell_type": "code",
   "execution_count": 27,
   "metadata": {},
   "outputs": [
    {
     "data": {
      "text/html": [
       "<div>\n",
       "<style scoped>\n",
       "    .dataframe tbody tr th:only-of-type {\n",
       "        vertical-align: middle;\n",
       "    }\n",
       "\n",
       "    .dataframe tbody tr th {\n",
       "        vertical-align: top;\n",
       "    }\n",
       "\n",
       "    .dataframe thead th {\n",
       "        text-align: right;\n",
       "    }\n",
       "</style>\n",
       "<table border=\"1\" class=\"dataframe\">\n",
       "  <thead>\n",
       "    <tr style=\"text-align: right;\">\n",
       "      <th></th>\n",
       "      <th>Date</th>\n",
       "      <th>Position_x</th>\n",
       "      <th>Position_y</th>\n",
       "      <th>Position_z</th>\n",
       "      <th>Velocity_x</th>\n",
       "      <th>Velocity_y</th>\n",
       "      <th>Velocity_z</th>\n",
       "    </tr>\n",
       "  </thead>\n",
       "  <tbody>\n",
       "    <tr>\n",
       "      <th>0</th>\n",
       "      <td>1964-09-01</td>\n",
       "      <td>9.802199e+07</td>\n",
       "      <td>4.642303e+07</td>\n",
       "      <td>-5.009535e+06</td>\n",
       "      <td>-16.841095</td>\n",
       "      <td>31.169176</td>\n",
       "      <td>1.515031</td>\n",
       "    </tr>\n",
       "    <tr>\n",
       "      <th>1</th>\n",
       "      <td>1964-09-02</td>\n",
       "      <td>9.653499e+07</td>\n",
       "      <td>4.907756e+07</td>\n",
       "      <td>-4.878073e+06</td>\n",
       "      <td>-17.559232</td>\n",
       "      <td>30.280814</td>\n",
       "      <td>1.525763</td>\n",
       "    </tr>\n",
       "    <tr>\n",
       "      <th>2</th>\n",
       "      <td>1964-09-03</td>\n",
       "      <td>9.499122e+07</td>\n",
       "      <td>5.165641e+07</td>\n",
       "      <td>-4.746249e+06</td>\n",
       "      <td>-18.157275</td>\n",
       "      <td>29.421917</td>\n",
       "      <td>1.523812</td>\n",
       "    </tr>\n",
       "    <tr>\n",
       "      <th>3</th>\n",
       "      <td>1964-09-04</td>\n",
       "      <td>9.340043e+07</td>\n",
       "      <td>5.416325e+07</td>\n",
       "      <td>-4.615044e+06</td>\n",
       "      <td>-18.650868</td>\n",
       "      <td>28.617836</td>\n",
       "      <td>1.511939</td>\n",
       "    </tr>\n",
       "    <tr>\n",
       "      <th>4</th>\n",
       "      <td>1964-09-05</td>\n",
       "      <td>9.177075e+07</td>\n",
       "      <td>5.660374e+07</td>\n",
       "      <td>-4.485177e+06</td>\n",
       "      <td>-19.061267</td>\n",
       "      <td>27.889125</td>\n",
       "      <td>1.493449</td>\n",
       "    </tr>\n",
       "  </tbody>\n",
       "</table>\n",
       "</div>"
      ],
      "text/plain": [
       "         Date    Position_x    Position_y    Position_z  Velocity_x  \\\n",
       "0  1964-09-01  9.802199e+07  4.642303e+07 -5.009535e+06  -16.841095   \n",
       "1  1964-09-02  9.653499e+07  4.907756e+07 -4.878073e+06  -17.559232   \n",
       "2  1964-09-03  9.499122e+07  5.165641e+07 -4.746249e+06  -18.157275   \n",
       "3  1964-09-04  9.340043e+07  5.416325e+07 -4.615044e+06  -18.650868   \n",
       "4  1964-09-05  9.177075e+07  5.660374e+07 -4.485177e+06  -19.061267   \n",
       "\n",
       "   Velocity_y  Velocity_z  \n",
       "0   31.169176    1.515031  \n",
       "1   30.280814    1.525763  \n",
       "2   29.421917    1.523812  \n",
       "3   28.617836    1.511939  \n",
       "4   27.889125    1.493449  "
      ]
     },
     "execution_count": 27,
     "metadata": {},
     "output_type": "execute_result"
    }
   ],
   "source": [
    "import pandas as pd\n",
    "import numpy as np\n",
    "df = pd.read_csv('RawData/horizons_results_30_years.csv')\n",
    "\n",
    "GM = np.float128(1.32712440018e11) # km^3/s^2\n",
    "\n",
    "df.head()"
   ]
  },
  {
   "cell_type": "code",
   "execution_count": 28,
   "metadata": {},
   "outputs": [],
   "source": [
    "position = df[['Position_x', 'Position_y', 'Position_z']].values.astype(np.float128)\n",
    "velocity = df[['Velocity_x', 'Velocity_y', 'Velocity_z']].values.astype(np.float128)\n",
    "\n",
    "angular_momentum = np.cross(position, velocity)\n",
    "vel_cross_h = np.cross(velocity, angular_momentum)\n",
    "\n",
    "angular_momentum_magnitude = np.sqrt(angular_momentum[:,0]**2 + angular_momentum[:,1]**2 + angular_momentum[:,2]**2)\n",
    "pos_magnitude = np.sqrt(np.sum(position**2, axis=1, dtype=np.float128))"
   ]
  },
  {
   "cell_type": "code",
   "execution_count": 29,
   "metadata": {},
   "outputs": [
    {
     "name": "stdout",
     "output_type": "stream",
     "text": [
      "Mean Semi-major axis: 109444031.56288806 kms\n",
      "True value of semi-major axis of Venus: 108200000 km\n",
      "Relative error:  1.1497519065508903439 %\n"
     ]
    }
   ],
   "source": [
    "#Caclulate semi-major axis\n",
    "pos_x = df['Position_x'].values\n",
    "pos_y = df['Position_y'].values\n",
    "pos_z = df['Position_z'].values\n",
    "vel_x = df['Velocity_x'].values\n",
    "vel_y = df['Velocity_y'].values\n",
    "vel_z = df['Velocity_z'].values\n",
    "\n",
    "r_magnitude = np.sqrt(pos_x**2 + pos_y**2 + pos_z**2)\n",
    "v_magnitude = np.sqrt(vel_x**2 + vel_y**2 + vel_z**2)\n",
    "\n",
    "semi_major_axis_arr = 1/((2/r_magnitude) - (v_magnitude**2/GM))\n",
    "\n",
    "semi_major_axis = np.mean(semi_major_axis_arr)\n",
    "\n",
    "print(f'Mean Semi-major axis: {semi_major_axis} kms')\n",
    "print(\"True value of semi-major axis of Venus: 108200000 km\")\n",
    "print(\"Relative error: \", ((semi_major_axis - 108200000)/108200000)*100, \"%\")\n",
    "\n",
    "with open('Results/constants.txt', 'w') as f:\n",
    "    f.write(f'Mean Semi-major axis: {semi_major_axis} kms\\n')"
   ]
  },
  {
   "cell_type": "code",
   "execution_count": 30,
   "metadata": {},
   "outputs": [
    {
     "name": "stdout",
     "output_type": "stream",
     "text": [
      "Periheleion:  0.7137602900595876 AU\n",
      "Apoheleion:  0.7328811833264984 AU\n",
      "True value of periheleion of Venus: 0.7184 AU\n",
      "True value of apoheleion of Venus: 0.7282 AU\n",
      "Eccentricity:  0.013217437505199834\n",
      "True value of eccentricity of Venus: 0.0067\n",
      "Relative error:  97.27518664477363 %\n"
     ]
    }
   ],
   "source": [
    "periheleion = np.min(r_magnitude)\n",
    "apoheleion = np.max(r_magnitude)\n",
    "\n",
    "#convert to AU\n",
    "periheleion = periheleion/149597870.7\n",
    "apoheleion = apoheleion/149597870.7\n",
    "\n",
    "print('Periheleion: ', periheleion, 'AU')\n",
    "print('Apoheleion: ', apoheleion, 'AU')\n",
    "print(\"True value of periheleion of Venus: 0.7184 AU\")\n",
    "print(\"True value of apoheleion of Venus: 0.7282 AU\")\n",
    "eccentricity = (apoheleion - periheleion)/(apoheleion + periheleion)\n",
    "print('Eccentricity: ', eccentricity)\n",
    "print(\"True value of eccentricity of Venus: 0.0067\")\n",
    "print(\"Relative error: \", ((eccentricity - 0.0067)/0.0067)*100, \"%\")\n",
    "\n",
    "with open('Results/constants.txt', 'a') as f:\n",
    "    f.write('Periheleion: ' + str(periheleion) + ' AU\\n')\n",
    "    f.write('Apoheleion: ' + str(apoheleion) + ' AU\\n')\n",
    "    f.write('Eccentricity: ' + str(eccentricity) + '\\n')"
   ]
  },
  {
   "cell_type": "code",
   "execution_count": 31,
   "metadata": {},
   "outputs": [
    {
     "name": "stdout",
     "output_type": "stream",
     "text": [
      "Mean Inclination: 3.39415026472638 degrees\n",
      "True value of inclination of Venus: 3.39 degrees\n",
      "Relative error:  0.12242668809380086163 %\n"
     ]
    }
   ],
   "source": [
    "#calculate average inclination\n",
    "inclination = np.arccos(angular_momentum[:,2]/angular_momentum_magnitude)\n",
    "inclination = np.degrees(inclination)\n",
    "inclination = np.mean(inclination)\n",
    "print(f'Mean Inclination: {inclination} degrees')\n",
    "print(\"True value of inclination of Venus: 3.39 degrees\")\n",
    "print(\"Relative error: \", ((inclination - 3.39)/3.39)*100, \"%\")\n",
    "\n",
    "with open('Results/constants.txt', 'a') as f:\n",
    "    f.write(f'Mean Inclination: {inclination} degrees\\n')"
   ]
  },
  {
   "cell_type": "code",
   "execution_count": 32,
   "metadata": {},
   "outputs": [
    {
     "name": "stdout",
     "output_type": "stream",
     "text": [
      "Mean Longitude of ascending node: 76.73822747264366 degrees\n",
      "True value of Longitude of ascending node of Venus: 76.785 degrees\n",
      "Relative error:  -0.06091362552105618696 %\n"
     ]
    }
   ],
   "source": [
    "#Longitude of ascending node\n",
    "omega = np.arctan2(angular_momentum[:,0], -1*angular_momentum[:,1])\n",
    "omega = np.degrees(omega)\n",
    "omega = np.mean(omega)\n",
    "print(f'Mean Longitude of ascending node: {omega} degrees')\n",
    "print(\"True value of Longitude of ascending node of Venus: 76.785 degrees\")\n",
    "print(\"Relative error: \", ((omega - 76.785)/76.785)*100, \"%\")\n",
    "\n",
    "with open('Results/constants.txt', 'a') as f:\n",
    "    f.write(f'Mean Longitude of ascending node: {omega} degrees\\n')"
   ]
  },
  {
   "cell_type": "code",
   "execution_count": 33,
   "metadata": {},
   "outputs": [
    {
     "name": "stdout",
     "output_type": "stream",
     "text": [
      "Mean Argument of periapsis: 88.27113636265724 degrees\n",
      "True value of Argument of periapsis of Venus: 54.78 degrees\n",
      "Relative error:  61.137525306055572966 %\n"
     ]
    }
   ],
   "source": [
    "#Calculate Argument of periapsis\n",
    "node_vector = np.cross([0,0,1], angular_momentum) #direction of the ascending node; Lies in the reference plane; Points from the central body toward the ascending node.\n",
    "node_vector_magnitude = np.sqrt(node_vector[:,0]**2 + node_vector[:,1]**2 + node_vector[:,2]**2)\n",
    "node_vector_unit = node_vector/node_vector_magnitude[:,np.newaxis]\n",
    "\n",
    "e_vector = vel_cross_h/GM - position/pos_magnitude[:,np.newaxis] #eccentricity vector\n",
    "e_vector_magnitude = np.sqrt(e_vector[:,0]**2 + e_vector[:,1]**2 + e_vector[:,2]**2)\n",
    "e_vector_unit = e_vector/e_vector_magnitude[:,np.newaxis]\n",
    "\n",
    "w = np.arccos(np.dot(node_vector_unit, e_vector_unit.T))\n",
    "w = np.degrees(w)\n",
    "w = np.mean(w)\n",
    "print(f'Mean Argument of periapsis: {w} degrees')\n",
    "print(\"True value of Argument of periapsis of Venus: 54.78 degrees\")\n",
    "print(\"Relative error: \", ((w - 54.78)/54.78)*100, \"%\")\n",
    "\n",
    "with open('Results/constants.txt', 'a') as f:\n",
    "    f.write(f'Mean Argument of periapsis: {w} degrees\\n')"
   ]
  },
  {
   "cell_type": "code",
   "execution_count": null,
   "metadata": {},
   "outputs": [],
   "source": []
  }
 ],
 "metadata": {
  "kernelspec": {
   "display_name": "nc",
   "language": "python",
   "name": "python3"
  },
  "language_info": {
   "codemirror_mode": {
    "name": "ipython",
    "version": 3
   },
   "file_extension": ".py",
   "mimetype": "text/x-python",
   "name": "python",
   "nbconvert_exporter": "python",
   "pygments_lexer": "ipython3",
   "version": "3.10.15"
  }
 },
 "nbformat": 4,
 "nbformat_minor": 2
}
