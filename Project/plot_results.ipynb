{
 "cells": [
  {
   "cell_type": "code",
   "execution_count": 1,
   "metadata": {},
   "outputs": [],
   "source": [
    "import matplotlib.pyplot as plt\n",
    "import numpy as np"
   ]
  },
  {
   "cell_type": "code",
   "execution_count": null,
   "metadata": {},
   "outputs": [],
   "source": [
    "with open('Results/venus_2023.txt') as f:\n",
    "    pred_coordinates = np.empty((0, 3))\n",
    "    lines = f.readlines()\n",
    "    for line in lines:\n",
    "        pred_coordinates = np.vstack((pred_coordinates, np.array(line.split()).astype(np.float128)))\n",
    "\n",
    "target_coordinates = np.empty((0, 3))\n",
    "\n",
    "with open('RawData/horizons_results_target.csv') as f:\n",
    "    for line in f:\n",
    "        line = line.strip().split(',')\n",
    "        position = np.array(list(map(np.float128, line)))\n",
    "        target_coordinates = np.vstack((target_coordinates, position))\n",
    "\n",
    "target_coordinates = target_coordinates[:len(pred_coordinates)]"
   ]
  },
  {
   "cell_type": "code",
   "execution_count": 3,
   "metadata": {},
   "outputs": [
    {
     "name": "stdout",
     "output_type": "stream",
     "text": [
      "Periapsis at index 197 with coordinates (-0.4309016906831909, 0.5681611360654457, 0.032407706168996894) AU\n"
     ]
    }
   ],
   "source": [
    "radial_distance = np.sqrt(np.sum(target_coordinates**2, axis=1))\n",
    "\n",
    "periapsis_index = np.argmin(radial_distance)\n",
    "periapsis_x = target_coordinates[periapsis_index, 0]\n",
    "periapsis_y = target_coordinates[periapsis_index, 1]\n",
    "periapsis_z = target_coordinates[periapsis_index, 2]\n",
    "print(f'Periapsis at index {periapsis_index} with coordinates ({periapsis_x/149597870.7}, {periapsis_y/149597870.7}, {periapsis_z/149597870.7}) AU')"
   ]
  },
  {
   "cell_type": "code",
   "execution_count": null,
   "metadata": {},
   "outputs": [],
   "source": [
    "#convert to AU\n",
    "target_coordinates = target_coordinates / 149597870.7\n",
    "pred_coordinates = pred_coordinates / 149597870.7"
   ]
  },
  {
   "cell_type": "code",
   "execution_count": null,
   "metadata": {},
   "outputs": [],
   "source": [
    "#plot X,Y,Z separately; set the y axis limit common for all plots\n",
    "fig, axs = plt.subplots(3, 1, figsize=(7, 15), sharex=True)\n",
    "fig.suptitle('Venus position prediction for 2023')\n",
    "ylim = max(np.max(target_coordinates), np.max(pred_coordinates))\n",
    "axs[0].plot(target_coordinates[:,0], label='True position')\n",
    "axs[0].plot(pred_coordinates[:,0], label='Predicted position(Orbital Elements)')\n",
    "axs[0].set_title('X coordinate')\n",
    "axs[0].set_ylabel('X (AU)')\n",
    "axs[0].legend()\n",
    "axs[0].set_ylim(-ylim, ylim)\n",
    "axs[1].plot(target_coordinates[:,1], label='True position')\n",
    "axs[1].plot(pred_coordinates[:,1], label='Predicted position(Orbital Elements)')\n",
    "axs[1].set_title('Y coordinate')\n",
    "axs[1].set_ylabel('Y (AU)')\n",
    "axs[1].legend()\n",
    "axs[1].set_ylim(-ylim, ylim)\n",
    "axs[2].plot(target_coordinates[:,2], label='True position')\n",
    "axs[2].plot(pred_coordinates[:,2], label='Predicted position(Orbital Elements)')\n",
    "axs[2].set_title('Z coordinate')\n",
    "axs[2].set_ylabel('Z (AU)')\n",
    "axs[2].set_xlabel('Time (days) from periapsis')\n",
    "axs[2].legend()\n",
    "axs[2].set_ylim(-ylim, ylim)\n",
    "plt.show()"
   ]
  },
  {
   "cell_type": "code",
   "execution_count": null,
   "metadata": {},
   "outputs": [],
   "source": [
    "#plot both the target and the prediction\n",
    "fig = plt.figure(figsize=(10, 10))\n",
    "ax = fig.add_subplot(111, projection='3d')\n",
    "ax.plot(target_coordinates[:,0], target_coordinates[:,1], target_coordinates[:,2], label='True position')\n",
    "ax.plot(pred_coordinates[:,0], pred_coordinates[:,1], pred_coordinates[:,2], label='Predicted position(Orbital Elements)')\n",
    "ax.scatter(0, 0, 0, c='red', label='Sun')\n",
    "ax.set_xlabel('X (AU)')\n",
    "ax.set_ylabel('Y (AU)')\n",
    "ax.set_zlabel('Z (AU)')\n",
    "ax.set_title('Venus position prediction for 2023')\n",
    "ax.legend()\n",
    "plt.show()"
   ]
  }
 ],
 "metadata": {
  "kernelspec": {
   "display_name": "nc",
   "language": "python",
   "name": "python3"
  },
  "language_info": {
   "codemirror_mode": {
    "name": "ipython",
    "version": 3
   },
   "file_extension": ".py",
   "mimetype": "text/x-python",
   "name": "python",
   "nbconvert_exporter": "python",
   "pygments_lexer": "ipython3",
   "version": "3.10.15"
  }
 },
 "nbformat": 4,
 "nbformat_minor": 2
}
