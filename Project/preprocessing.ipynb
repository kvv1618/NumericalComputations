{
 "cells": [
  {
   "cell_type": "code",
   "execution_count": 39,
   "metadata": {},
   "outputs": [
    {
     "name": "stdout",
     "output_type": "stream",
     "text": [
      "Data loss: 0\n"
     ]
    }
   ],
   "source": [
    "\n",
    "import pandas as pd\n",
    "from datetime import datetime\n",
    "\n",
    "raw_df = pd.DataFrame()\n",
    "\n",
    "with open('RawData/horizons_results_30_years.txt', 'r') as file:\n",
    "    data = file.read()\n",
    "    data = data.split('\\n')[51:43999]\n",
    "    rows = []\n",
    "    data_loss = 0\n",
    "    columns = ['Date', 'Position_x', 'Position_y', 'Position_z', 'Velocity_x', 'Velocity_y', 'Velocity_z']\n",
    "    \n",
    "    for i in range(0, len(data), 4):\n",
    "        datestep = None\n",
    "        try:\n",
    "            datestep = datetime.strptime(data[i].split(' ')[3], \"%Y-%b-%d\").strftime(\"%Y-%m-%d\")\n",
    "        except Exception as e:\n",
    "            print(e)\n",
    "            continue\n",
    "\n",
    "        position, velocity = [], []\n",
    "        try:\n",
    "            for j in [x.strip() for x in data[i+1].split('=')]:\n",
    "                if j[0].isdigit() or j[0] == '-':\n",
    "                    position.append(j.split(' ')[0])\n",
    "        except Exception as e:\n",
    "            print(e)\n",
    "            continue\n",
    "\n",
    "        try: \n",
    "            for j in [x.strip() for x in data[i+2].split('=')]:\n",
    "                if j[0].isdigit() or j[0] == '-':\n",
    "                    velocity.append(j.split(' ')[0])\n",
    "        except Exception as e:\n",
    "            print(e)\n",
    "            continue\n",
    "        \n",
    "        if datestep and len(position) == 3 and len(velocity) == 3:\n",
    "            rows.append([datestep, position[0], position[1], position[2], velocity[0], velocity[1], velocity[2]])\n",
    "        else:\n",
    "            data_loss+=1\n",
    "\n",
    "    raw_df = pd.DataFrame(rows, columns=columns)\n",
    "    print('Data loss:', data_loss)\n",
    "\n",
    "\n",
    "raw_df.to_csv('RawData/horizons_results_30_years.csv', index=False)\n"
   ]
  }
 ],
 "metadata": {
  "kernelspec": {
   "display_name": "nc",
   "language": "python",
   "name": "python3"
  },
  "language_info": {
   "codemirror_mode": {
    "name": "ipython",
    "version": 3
   },
   "file_extension": ".py",
   "mimetype": "text/x-python",
   "name": "python",
   "nbconvert_exporter": "python",
   "pygments_lexer": "ipython3",
   "version": "3.10.15"
  }
 },
 "nbformat": 4,
 "nbformat_minor": 2
}
