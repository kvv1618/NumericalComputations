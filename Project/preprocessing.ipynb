{
 "cells": [
  {
   "cell_type": "code",
   "execution_count": 11,
   "metadata": {},
   "outputs": [
    {
     "name": "stdout",
     "output_type": "stream",
     "text": [
      "Data loss: 43948\n",
      "total date:  43948\n"
     ]
    }
   ],
   "source": [
    "\n",
    "import pandas as pd\n",
    "from datetime import datetime\n",
    "\n",
    "raw_df = pd.DataFrame()\n",
    "\n",
    "with open('RawData/horizons_results_30_years.txt', 'r') as file:\n",
    "    data = file.read()\n",
    "    data = data.split('\\n')[51:43999]\n",
    "    rows = []\n",
    "    columns = ['Date', 'Position_x', 'Position_y', 'Position_z', 'Velocity_x', 'Velocity_y', 'Velocity_z']\n",
    "    \n",
    "    for i in range(0, len(data), 4):\n",
    "        datestep = None\n",
    "        try:\n",
    "            datestep = datetime.strptime(data[i].split(' ')[3], \"%Y-%b-%d\").strftime(\"%Y-%m-%d\")\n",
    "        except:\n",
    "            continue\n",
    "\n",
    "        position, velocity = [], []\n",
    "        try:\n",
    "            pos_line = data[i+1].split(' ')\n",
    "        except:\n",
    "            print(data[i+1])\n",
    "\n",
    "        try:\n",
    "            position.append([pos_line[3], pos_line[6], pos_line[8].split('=')[1]])\n",
    "        except:\n",
    "            continue\n",
    "\n",
    "        vel_line = data[i+2].split(' ')\n",
    "        try:\n",
    "            velocity.append([vel_line[1].split('=')[1], vel_line[3], vel_line[5]])\n",
    "        except:\n",
    "            continue\n",
    "\n",
    "        print(datestep, position, velocity)\n",
    "        if datestep and len(position[0]) == 3 and len(velocity[0]) == 3:\n",
    "            rows.append([datestep, position[0][0], position[0][1], position[0][2], velocity[0][0], velocity[0][1], velocity[0][2]])\n",
    "            print(rows)\n",
    "\n",
    "    raw_df = pd.DataFrame(rows, columns=columns)\n",
    "    print('Data loss:', len(data) - len(rows))\n",
    "\n",
    "    print(\"total date: \", len(data))\n",
    "\n",
    "raw_df.to_csv('RawData/horizons_results_30_years.csv', index=False)\n"
   ]
  }
 ],
 "metadata": {
  "kernelspec": {
   "display_name": "nc",
   "language": "python",
   "name": "python3"
  },
  "language_info": {
   "codemirror_mode": {
    "name": "ipython",
    "version": 3
   },
   "file_extension": ".py",
   "mimetype": "text/x-python",
   "name": "python",
   "nbconvert_exporter": "python",
   "pygments_lexer": "ipython3",
   "version": "3.10.15"
  }
 },
 "nbformat": 4,
 "nbformat_minor": 2
}
