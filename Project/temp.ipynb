{
 "cells": [
  {
   "cell_type": "code",
   "execution_count": 8,
   "metadata": {},
   "outputs": [],
   "source": [
    "import numpy as np\n",
    "target_coordinates = np.empty((0, 3), dtype=np.float128)\n",
    "with open('RawData/horizons_results_target.csv') as f:\n",
    "    for line in f:\n",
    "        line = line.strip().split(',')\n",
    "        position = np.array(list(map(np.float128, line)))\n",
    "        target_coordinates = np.vstack((target_coordinates, position))\n",
    "\n",
    "radial_distance = np.sqrt(np.sum(target_coordinates**2, axis=1))\n",
    "\n",
    "periapsis_index = np.argmin(radial_distance)"
   ]
  },
  {
   "cell_type": "code",
   "execution_count": 9,
   "metadata": {},
   "outputs": [
    {
     "data": {
      "text/plain": [
       "np.int64(197)"
      ]
     },
     "execution_count": 9,
     "metadata": {},
     "output_type": "execute_result"
    }
   ],
   "source": [
    "periapsis_index"
   ]
  },
  {
   "cell_type": "code",
   "execution_count": 10,
   "metadata": {},
   "outputs": [
    {
     "data": {
      "text/plain": [
       "array([[-1.05909136e+08,  1.50047930e+07,  6.28749875e+06],\n",
       "       [-1.06409850e+08,  1.21139431e+07,  6.28650480e+06],\n",
       "       [-1.06852917e+08,  9.18140239e+06,  6.28282447e+06],\n",
       "       ...,\n",
       "       [ 9.06801260e+07,  5.86101648e+07, -4.38341176e+06],\n",
       "       [ 8.89271574e+07,  6.09736089e+07, -4.24715367e+06],\n",
       "       [ 8.71435785e+07,  6.32744846e+07, -4.11283138e+06]],\n",
       "      dtype=float128)"
      ]
     },
     "execution_count": 10,
     "metadata": {},
     "output_type": "execute_result"
    }
   ],
   "source": [
    "target_coordinates"
   ]
  },
  {
   "cell_type": "code",
   "execution_count": null,
   "metadata": {},
   "outputs": [],
   "source": []
  }
 ],
 "metadata": {
  "kernelspec": {
   "display_name": "nc",
   "language": "python",
   "name": "python3"
  },
  "language_info": {
   "codemirror_mode": {
    "name": "ipython",
    "version": 3
   },
   "file_extension": ".py",
   "mimetype": "text/x-python",
   "name": "python",
   "nbconvert_exporter": "python",
   "pygments_lexer": "ipython3",
   "version": "3.10.15"
  }
 },
 "nbformat": 4,
 "nbformat_minor": 2
}
